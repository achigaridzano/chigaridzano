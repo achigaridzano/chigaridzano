{
 "cells": [
  {
   "cell_type": "code",
   "execution_count": 3,
   "metadata": {},
   "outputs": [
    {
     "name": "stdout",
     "output_type": "stream",
     "text": [
      "Username:mpofu\n",
      "Password:········\n",
      "login successfully\n",
      "1.Deposit, 2.Make Payment  3.View  Today's Menu\n",
      "Enter your choice here:3\n",
      "Here is our food menu:\n",
      "1.(sadza and madora)=$1.50\n",
      " 2.(sadza and chicken)=$2\n",
      " 3.(sadza and madora)=$2.50\n"
     ]
    }
   ],
   "source": [
    "import getpass\n",
    "import datetime\n",
    "global new_balance\n",
    "new_balance=200\n",
    "\n",
    "def login():\n",
    "    user = input(\"Username:\")\n",
    "    passw = getpass.getpass(\"Password:\")\n",
    "    f = open(r\"C:\\Users\\EvenBee\\Desktop\\Banking\\users.txt.txt\",\"r\")\n",
    "    for line in f.readlines():\n",
    "        us,pw = line.strip().split(\"/\")\n",
    "        if (user in us) and (passw in pw):\n",
    "            print(\"login successfully\")\n",
    "            return True\n",
    "    print(\"wrong password/username\")\n",
    "    return False\n",
    "\n",
    "log=login()\n",
    "\n",
    "def main():\n",
    "    print(\"1.Deposit, 2.Make Payment  3.View  Today's Menu\")\n",
    "    choice=int(input(\"Enter your choice here:\"))\n",
    "    \n",
    "    if choice==1:\n",
    "        def deposit():\n",
    "            new_balance=200\n",
    "            deposit=int(input(\"Enter the amount you wish to deposit:$\"))\n",
    "            new_balance+=deposit\n",
    "            print(\"Your new balance is $\",new_balance)\n",
    "        depos=deposit()\n",
    "    \n",
    "    elif choice == 2:\n",
    "        def Make_payment():\n",
    "            new_balance=200\n",
    "            \n",
    "            num_meals=int(input('enter number of meals you wish to purchase:'))\n",
    "            for meals in range(num_meals):\n",
    "                meals=['.sadza and madora=$2','.sadza and chicken=$3','sadza and fish=$4']\n",
    "                ids=[1001,1002,1003]\n",
    "                listt=[]\n",
    "                recpt=[]\n",
    "                ltt=[]\n",
    "                x=datetime.datetime.now()\n",
    "                print(\"Here is our menu:\\n1.(sadza and madora)=$1.50\\n 2.(sadza and chicken)=$2\\n 3.(sadza and madora)=$2.50\")\n",
    "                choice1=int(input(\"Enter your choice here:\"))\n",
    "                if choice1 == 1:\n",
    "                    new_balance-= 1.50\n",
    "                    print('you have successfully paid for sadza and madora ')\n",
    "                    listt.append(meals[0])\n",
    "                    print(\"Here is your receipt\\n\",listt,'at',x,'ID',ids[0])\n",
    "                    \n",
    "                    \n",
    "                elif choice1 == 2:\n",
    "                    new_balance-=2\n",
    "                    print('you have successfully paid for sadza and chicken ')\n",
    "                    recpt.append(meals[1])\n",
    "                    print(\"Here is your receipt\\n\",recpt,'at',x,'ID',ids[1])\n",
    "                    \n",
    "                    \n",
    "                elif choice1== 3:\n",
    "                    new_balance-=3\n",
    "                    print('you have successfully paid for sadza and fish ')\n",
    "                    ltt.append(meals[2])\n",
    "                    print(\"Here is your receipt\\n\",ltt,'at',x,'ID',ids[2])\n",
    "                    \n",
    "                else:\n",
    "                    print('error')\n",
    "            \n",
    "        Make_payment()\n",
    "            \n",
    "                        \n",
    "    \n",
    "    elif choice == 3:\n",
    "        def Menu():\n",
    "            print(\"Here is our today's menu:\\n1.(sadza and madora)=$1.50\\n 2.(sadza and chicken)=$2\\n 3.(sadza and madora)=$2.50\")\n",
    "                \n",
    "        Menu()\n",
    "        \n",
    "if log== True:\n",
    "\n",
    "    main()\n",
    "    \n"
   ]
  },
  {
   "cell_type": "code",
   "execution_count": null,
   "metadata": {},
   "outputs": [],
   "source": []
  },
  {
   "cell_type": "code",
   "execution_count": null,
   "metadata": {},
   "outputs": [],
   "source": []
  },
  {
   "cell_type": "code",
   "execution_count": null,
   "metadata": {},
   "outputs": [],
   "source": []
  },
  {
   "cell_type": "code",
   "execution_count": null,
   "metadata": {},
   "outputs": [],
   "source": []
  },
  {
   "cell_type": "code",
   "execution_count": null,
   "metadata": {},
   "outputs": [],
   "source": []
  }
 ],
 "metadata": {
  "kernelspec": {
   "display_name": "Python 3",
   "language": "python",
   "name": "python3"
  },
  "language_info": {
   "codemirror_mode": {
    "name": "ipython",
    "version": 3
   },
   "file_extension": ".py",
   "mimetype": "text/x-python",
   "name": "python",
   "nbconvert_exporter": "python",
   "pygments_lexer": "ipython3",
   "version": "3.7.6"
  }
 },
 "nbformat": 4,
 "nbformat_minor": 4
}
